{
  "nbformat": 4,
  "nbformat_minor": 0,
  "metadata": {
    "colab": {
      "provenance": [],
      "authorship_tag": "ABX9TyMQGT4wAX7FmqBKPsZzMgS9",
      "include_colab_link": true
    },
    "kernelspec": {
      "name": "python3",
      "display_name": "Python 3"
    },
    "language_info": {
      "name": "python"
    }
  },
  "cells": [
    {
      "cell_type": "markdown",
      "metadata": {
        "id": "view-in-github",
        "colab_type": "text"
      },
      "source": [
        "<a href=\"https://colab.research.google.com/github/ryugp0205/matplotlib_library_guide/blob/main/colab_basic_1.ipynb\" target=\"_parent\"><img src=\"https://colab.research.google.com/assets/colab-badge.svg\" alt=\"Open In Colab\"/></a>"
      ]
    },
    {
      "cell_type": "markdown",
      "source": [
        "python  code  성적표  1"
      ],
      "metadata": {
        "id": "S4OovMgPjl3S"
      }
    },
    {
      "cell_type": "code",
      "source": [
        "# 학생 수와 과목 리스트 정의\n",
        "num_students = 5\n",
        "subjects = ['국어', '수학', '과학']\n",
        "\n",
        "# 학생 정보 입력받기\n",
        "students = []\n",
        "\n",
        "for i in range(num_students):\n",
        "    print(f\"\\n{i+1}번째 학생 정보 입력:\")\n",
        "    name = input(\"이름: \")\n",
        "    scores = {}\n",
        "    for subject in subjects:\n",
        "        score = int(input(f\"{subject} 점수: \"))\n",
        "        scores[subject] = score\n",
        "    students.append({'이름': name, '점수': scores})\n",
        "\n",
        "# 결과 출력\n",
        "print(\"\\n[학생별 성적표]\")\n",
        "print(\"{:<10} {:<6} {:<6} {:<6} {:<6} {:<6}\".format(\"이름\", \"국어\", \"수학\", \"과학\", \"합계\", \"평균\"))\n",
        "\n",
        "# 과목별 총합 초기화\n",
        "subject_totals = {subject: 0 for subject in subjects}\n",
        "\n",
        "# 학생별 성적 계산 및 출력\n",
        "for student in students:\n",
        "    name = student['이름']\n",
        "    scores = student['점수']\n",
        "    total = sum(scores.values())\n",
        "    avg = total / len(subjects)\n",
        "    for subject in subjects:\n",
        "        subject_totals[subject] += scores[subject]\n",
        "    print(\"{:<10} {:<6} {:<6} {:<6} {:<6} {:.2f}\".format(\n",
        "        name,\n",
        "        scores['국어'],\n",
        "        scores['수학'],\n",
        "        scores['과학'],\n",
        "        total,\n",
        "        avg\n",
        "    )\n",
        "\n",
        "# 과목별 평균 출력\n",
        "print(\"\\n[과목별 평균 점수]\")\n",
        "for subject in subjects:\n",
        "    avg = subject_totals[subject] / num_students\n",
        "    print(f\"{subject}: {avg:.2f}점\")\n"
      ],
      "metadata": {
        "colab": {
          "base_uri": "https://localhost:8080/"
        },
        "id": "LVGGkQ-QlIVK",
        "outputId": "1a8c02de-f871-494e-a01f-a02c8a64e877"
      },
      "execution_count": 4,
      "outputs": [
        {
          "output_type": "stream",
          "name": "stdout",
          "text": [
            "\n",
            "1번째 학생 정보 입력:\n",
            "이름: ko\n",
            "국어 점수: 71\n",
            "수학 점수: 30\n",
            "과학 점수: 60\n",
            "\n",
            "2번째 학생 정보 입력:\n",
            "이름: Yoo\n",
            "국어 점수: 100\n",
            "수학 점수: 100\n",
            "과학 점수: 100\n",
            "\n",
            "3번째 학생 정보 입력:\n",
            "이름: Kim\n",
            "국어 점수: 60\n",
            "수학 점수: 40\n",
            "과학 점수: 30\n",
            "\n",
            "4번째 학생 정보 입력:\n",
            "이름: Na\n",
            "국어 점수: 30\n",
            "수학 점수: 20\n",
            "과학 점수: 60\n",
            "\n",
            "5번째 학생 정보 입력:\n",
            "이름: Lee\n",
            "국어 점수: 80\n",
            "수학 점수: 30\n",
            "과학 점수: 90\n",
            "\n",
            "[학생별 성적표]\n",
            "이름         국어     수학     과학     합계     평균    \n",
            "ko         71     30     60     161    53.67\n",
            "Yoo        100    100    100    300    100.00\n",
            "Kim        60     40     30     130    43.33\n",
            "Na         30     20     60     110    36.67\n",
            "Lee        80     30     90     200    66.67\n",
            "\n",
            "[과목별 평균 점수]\n",
            "국어: 68.20점\n",
            "수학: 44.00점\n",
            "과학: 68.00점\n"
          ]
        }
      ]
    }
  ]
}